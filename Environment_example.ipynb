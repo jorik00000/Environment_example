{
  "nbformat": 4,
  "nbformat_minor": 0,
  "metadata": {
    "colab": {
      "provenance": []
    },
    "kernelspec": {
      "name": "python3",
      "display_name": "Python 3"
    },
    "language_info": {
      "name": "python"
    }
  },
  "cells": [
    {
      "cell_type": "code",
      "execution_count": 1,
      "metadata": {
        "id": "MXXTuy_o0sjk",
        "colab": {
          "base_uri": "https://localhost:8080/"
        },
        "outputId": "bd340dce-bdc2-40ff-87b2-55edd5e8ecb3"
      },
      "outputs": [
        {
          "output_type": "stream",
          "name": "stdout",
          "text": [
            "\u001b[?25l     \u001b[90m━━━━━━━━━━━━━━━━━━━━━━━━━━━━━━━━━━━━━━━━\u001b[0m \u001b[32m0.0/134.1 kB\u001b[0m \u001b[31m?\u001b[0m eta \u001b[36m-:--:--\u001b[0m\r\u001b[2K     \u001b[91m━━━━━━━━━━━━━━━━━━━━━━━━━━━━━━━━━━━━━━━\u001b[0m\u001b[91m╸\u001b[0m \u001b[32m133.1/134.1 kB\u001b[0m \u001b[31m6.9 MB/s\u001b[0m eta \u001b[36m0:00:01\u001b[0m\r\u001b[2K     \u001b[90m━━━━━━━━━━━━━━━━━━━━━━━━━━━━━━━━━━━━━━━━\u001b[0m \u001b[32m134.1/134.1 kB\u001b[0m \u001b[31m2.7 MB/s\u001b[0m eta \u001b[36m0:00:00\u001b[0m\n",
            "\u001b[?25h  Preparing metadata (setup.py) ... \u001b[?25l\u001b[?25hdone\n",
            "\u001b[2K   \u001b[90m━━━━━━━━━━━━━━━━━━━━━━━━━━━━━━━━━━━━━━━━\u001b[0m \u001b[32m1.3/1.3 MB\u001b[0m \u001b[31m13.6 MB/s\u001b[0m eta \u001b[36m0:00:00\u001b[0m\n",
            "\u001b[2K   \u001b[90m━━━━━━━━━━━━━━━━━━━━━━━━━━━━━━━━━━━━━━━━\u001b[0m \u001b[32m953.8/953.8 kB\u001b[0m \u001b[31m20.6 MB/s\u001b[0m eta \u001b[36m0:00:00\u001b[0m\n",
            "\u001b[2K   \u001b[90m━━━━━━━━━━━━━━━━━━━━━━━━━━━━━━━━━━━━━━━━\u001b[0m \u001b[32m840.2/840.2 kB\u001b[0m \u001b[31m15.1 MB/s\u001b[0m eta \u001b[36m0:00:00\u001b[0m\n",
            "\u001b[2K   \u001b[90m━━━━━━━━━━━━━━━━━━━━━━━━━━━━━━━━━━━━━━━━\u001b[0m \u001b[32m178.7/178.7 kB\u001b[0m \u001b[31m7.1 MB/s\u001b[0m eta \u001b[36m0:00:00\u001b[0m\n",
            "\u001b[?25h  Building wheel for vec-noise (setup.py) ... \u001b[?25l\u001b[?25hdone\n"
          ]
        }
      ],
      "source": [
        "!pip install -q -U kaggle_environments"
      ]
    },
    {
      "cell_type": "markdown",
      "source": [
        "# **Импорт библиотек**"
      ],
      "metadata": {
        "id": "8hWQBd_AFkkE"
      }
    },
    {
      "cell_type": "code",
      "source": [
        "import numpy as np\n",
        "import pandas as pd\n",
        "import random\n",
        "\n",
        "import matplotlib.pyplot as plt\n",
        "import seaborn as sns\n",
        "\n",
        "from kaggle_environments import make, evaluate"
      ],
      "metadata": {
        "id": "yz23vWHD0wcj"
      },
      "execution_count": 2,
      "outputs": []
    },
    {
      "cell_type": "markdown",
      "source": [
        "# **Опишем поведение агентов**"
      ],
      "metadata": {
        "id": "2Iw2eXPdFsxd"
      }
    },
    {
      "cell_type": "code",
      "source": [
        "# Агент, который всегда играет \"камень\"\n",
        "%%writefile rock_agent.py\n",
        "def your_agent(observation, configuration):\n",
        "    return 0  # 0 - камень"
      ],
      "metadata": {
        "id": "bqTqV7B92rJ6",
        "colab": {
          "base_uri": "https://localhost:8080/"
        },
        "outputId": "44885f15-d6f6-492e-c981-e714783e0e4e"
      },
      "execution_count": 20,
      "outputs": [
        {
          "output_type": "stream",
          "name": "stdout",
          "text": [
            "Overwriting rock_agent.py\n"
          ]
        }
      ]
    },
    {
      "cell_type": "code",
      "source": [
        "# Агент, который всегда играет \"бумагу\"\n",
        "%%writefile paper_agent.py\n",
        "def your_agent(observation, configuration):\n",
        "    return 1  # 1 - бумага"
      ],
      "metadata": {
        "colab": {
          "base_uri": "https://localhost:8080/"
        },
        "id": "BuM7XATTEsZ_",
        "outputId": "1a1d2706-5b4b-46d8-dd33-fc74a42d830a"
      },
      "execution_count": 8,
      "outputs": [
        {
          "output_type": "stream",
          "name": "stdout",
          "text": [
            "Writing paper_agent.py\n"
          ]
        }
      ]
    },
    {
      "cell_type": "code",
      "source": [
        "# Агент, который всегда играет \"ножницы\"\n",
        "%%writefile scissors_agent.py\n",
        "def your_agent(observation, configuration):\n",
        "    return 2  # 2 - ножницы"
      ],
      "metadata": {
        "colab": {
          "base_uri": "https://localhost:8080/"
        },
        "id": "44qPB51lEsXx",
        "outputId": "171be40c-94c3-410a-8f2f-a07f8c30d5f2"
      },
      "execution_count": 9,
      "outputs": [
        {
          "output_type": "stream",
          "name": "stdout",
          "text": [
            "Writing scissors_agent.py\n"
          ]
        }
      ]
    },
    {
      "cell_type": "code",
      "source": [
        "# Агент, который повторяет последнее действие противника\n",
        "%%writefile copy_opponent.py\n",
        "def copy_opponent(observation, configuration):\n",
        "    if observation.step > 0:\n",
        "        return observation.lastOpponentAction  # Повторяет действие противника\n",
        "    else:\n",
        "        return random.choice([0, 1, 2])  # Первое действие случайное"
      ],
      "metadata": {
        "colab": {
          "base_uri": "https://localhost:8080/"
        },
        "id": "V-3tp7N9EsVq",
        "outputId": "3cf9b624-4a96-460f-ed91-5119e08d86da"
      },
      "execution_count": 10,
      "outputs": [
        {
          "output_type": "stream",
          "name": "stdout",
          "text": [
            "Overwriting copy_opponent.py\n"
          ]
        }
      ]
    },
    {
      "cell_type": "code",
      "source": [
        "# Агент, который играет случайно\n",
        "%%writefile random_agent.py\n",
        "def random_agent(observation, configuration):\n",
        "    return random.choice([0, 1, 2])  # Случайный выбор между камнем, бумагой и ножницами"
      ],
      "metadata": {
        "colab": {
          "base_uri": "https://localhost:8080/"
        },
        "id": "-ay8Dkn_E8F-",
        "outputId": "d75c0942-7fa2-46b0-c17d-cfec1b470fb6"
      },
      "execution_count": 11,
      "outputs": [
        {
          "output_type": "stream",
          "name": "stdout",
          "text": [
            "Writing random_agent.py\n"
          ]
        }
      ]
    },
    {
      "cell_type": "code",
      "source": [
        "# Агент, который меняет действие каждую игру\n",
        "%%writefile alternating_agent.py\n",
        "def alternating_agent(observation, configuration):\n",
        "    return observation.step % 3  # Меняет действия по циклу (камень -> бумага -> ножницы)"
      ],
      "metadata": {
        "colab": {
          "base_uri": "https://localhost:8080/"
        },
        "id": "ESpzGDj7EsTW",
        "outputId": "798b57f7-94d1-474a-cfdb-ca59b0d5db93"
      },
      "execution_count": 12,
      "outputs": [
        {
          "output_type": "stream",
          "name": "stdout",
          "text": [
            "Writing alternating_agent.py\n"
          ]
        }
      ]
    },
    {
      "cell_type": "code",
      "source": [
        "# Агент, который играет \"камень\", если противник играет \"ножницы\"\n",
        "%%writefile rock_if_opponent_scissors.py\n",
        "def rock_if_opponent_scissors(observation, configuration):\n",
        "    if observation.step > 0 and observation.lastOpponentAction == 2:\n",
        "        return 0  # Если противник играл ножницы, играем камень\n",
        "    return random.choice([1, 2])  # В противном случае, случайный выбор"
      ],
      "metadata": {
        "colab": {
          "base_uri": "https://localhost:8080/"
        },
        "id": "NUdiqmvJEsQp",
        "outputId": "a4645396-2840-4f09-e5ba-bf65a392d235"
      },
      "execution_count": 13,
      "outputs": [
        {
          "output_type": "stream",
          "name": "stdout",
          "text": [
            "Writing rock_if_opponent_scissors.py\n"
          ]
        }
      ]
    },
    {
      "cell_type": "code",
      "source": [
        "# Агент, который играет \"ножницы\", если противник играет \"бумагу\"\n",
        "%%writefile scissors_if_opponent_paper.py\n",
        "def scissors_if_opponent_paper(observation, configuration):\n",
        "    if observation.step > 0 and observation.lastOpponentAction == 1:\n",
        "        return 2  # Если противник играл бумагу, играем ножницы\n",
        "    return random.choice([0, 1])  # В противном случае, случайный выбор"
      ],
      "metadata": {
        "colab": {
          "base_uri": "https://localhost:8080/"
        },
        "id": "2eINkpIEEsNX",
        "outputId": "caeb7e62-85de-4c00-f032-5a12ffece809"
      },
      "execution_count": 14,
      "outputs": [
        {
          "output_type": "stream",
          "name": "stdout",
          "text": [
            "Writing scissors_if_opponent_paper.py\n"
          ]
        }
      ]
    },
    {
      "cell_type": "code",
      "source": [
        "# Агент, который играет \"бумагу\", если противник играет \"камень\"\n",
        "%%writefile paper_if_opponent_rock.py\n",
        "def paper_if_opponent_rock(observation, configuration):\n",
        "    if observation.step > 0 and observation.lastOpponentAction == 0:\n",
        "        return 1  # Если противник играл камень, играем бумагу\n",
        "    return random.choice([0, 2])  # В противном случае, случайный выбор"
      ],
      "metadata": {
        "colab": {
          "base_uri": "https://localhost:8080/"
        },
        "id": "3wChHZmTFD5y",
        "outputId": "515bf418-3529-46f0-ac3e-99b9ddc1d39b"
      },
      "execution_count": 15,
      "outputs": [
        {
          "output_type": "stream",
          "name": "stdout",
          "text": [
            "Writing paper_if_opponent_rock.py\n"
          ]
        }
      ]
    },
    {
      "cell_type": "code",
      "source": [
        "# Агент, который играет \"камень\" 70% времени, а \"бумагу\" 30%\n",
        "%%writefile weighted_rock_agent.py\n",
        "def weighted_rock_agent(observation, configuration):\n",
        "    if random.random() < 0.7:\n",
        "        return 0  # 70% - камень\n",
        "    return 1  # 30% - бумага"
      ],
      "metadata": {
        "colab": {
          "base_uri": "https://localhost:8080/"
        },
        "id": "Mz023xYLFD3i",
        "outputId": "cdf2d00b-38ed-4e39-92ee-a9e12d52ca51"
      },
      "execution_count": 16,
      "outputs": [
        {
          "output_type": "stream",
          "name": "stdout",
          "text": [
            "Writing weighted_rock_agent.py\n"
          ]
        }
      ]
    },
    {
      "cell_type": "code",
      "source": [
        "# Агент, который выбирает действия в зависимости от предыдущих ходов\n",
        "%%writefile pattern_agent.py\n",
        "history = []\n",
        "\n",
        "def pattern_agent(observation, configuration):\n",
        "    global history\n",
        "    if len(history) < 2:\n",
        "        action = random.choice([0, 1, 2])  # Случайный выбор, если нет истории\n",
        "    else:\n",
        "        # Если последние два хода противника были одинаковыми, играем тем, что его бьет\n",
        "        if history[-1] == history[-2]:\n",
        "            action = (history[-1] + 1) % 3  # Бьем то, что он играл\n",
        "        else:\n",
        "            action = random.choice([0, 1, 2])  # В противном случае, случайный выбор\n",
        "    history.append(observation.lastOpponentAction)\n",
        "    return action"
      ],
      "metadata": {
        "colab": {
          "base_uri": "https://localhost:8080/"
        },
        "id": "5pAO1XbuFD1Y",
        "outputId": "439d7fa7-d417-4e4c-b7a8-b73aae2e30ef"
      },
      "execution_count": 17,
      "outputs": [
        {
          "output_type": "stream",
          "name": "stdout",
          "text": [
            "Writing pattern_agent.py\n"
          ]
        },
        {
          "output_type": "stream",
          "name": "stderr",
          "text": [
            "/usr/local/lib/python3.10/dist-packages/ipykernel/ipkernel.py:283: DeprecationWarning: `should_run_async` will not call `transform_cell` automatically in the future. Please pass the result to `transformed_cell` argument and any exception that happen during thetransform in `preprocessing_exc_tuple` in IPython 7.17 and above.\n",
            "  and should_run_async(code)\n"
          ]
        }
      ]
    },
    {
      "cell_type": "code",
      "source": [
        "# Агент, который анализирует ход противника и пытается предугадать\n",
        "%%writefile predictive_agent.py\n",
        "def predictive_agent(observation, configuration):\n",
        "    if observation.step == 0:\n",
        "        return random.choice([0, 1, 2])  # Случайный выбор на первом ходу\n",
        "    else:\n",
        "        # Если противник играл \"камень\" последний раз, можно предположить, что он может сыграть \"бумагу\"\n",
        "        if observation.lastOpponentAction == 0:\n",
        "            return 2  # Играем ножницы\n",
        "        elif observation.lastOpponentAction == 1:\n",
        "            return 0  # Играем камень\n",
        "        else:\n",
        "            return 1  # Играем бумагу"
      ],
      "metadata": {
        "colab": {
          "base_uri": "https://localhost:8080/"
        },
        "id": "mkrh_eOuFDy9",
        "outputId": "a1a31610-e70b-4cfe-e0ee-b02a5477f77d"
      },
      "execution_count": 18,
      "outputs": [
        {
          "output_type": "stream",
          "name": "stdout",
          "text": [
            "Writing predictive_agent.py\n"
          ]
        }
      ]
    },
    {
      "cell_type": "markdown",
      "source": [
        "# **Результаты тестов**"
      ],
      "metadata": {
        "id": "Onxp_V7JFzSI"
      }
    },
    {
      "cell_type": "code",
      "source": [
        "# Тестирование агентов\n",
        "results = []\n",
        "agents = [\n",
        "    \"rock_agent.py\",\n",
        "    \"paper_agent.py\",\n",
        "    \"scissors_agent.py\",\n",
        "    \"copy_opponent.py\",\n",
        "    \"random_agent.py\",\n",
        "    \"alternating_agent.py\",\n",
        "    \"rock_if_opponent_scissors.py\",\n",
        "    \"scissors_if_opponent_paper.py\",\n",
        "    \"paper_if_opponent_rock.py\",\n",
        "    \"weighted_rock_agent.py\",\n",
        "    \"pattern_agent.py\",\n",
        "    \"predictive_agent.py\",\n",
        "]\n",
        "\n",
        "# Запускаем тесты для каждой пары агентов\n",
        "for i in range(len(agents)):\n",
        "    for j in range(i + 1, len(agents)):\n",
        "        res = evaluate(\n",
        "            \"rps\",\n",
        "            [agents[i], agents[j]],\n",
        "            configuration={\"episodeSteps\": 100}\n",
        "        )\n",
        "        results.append((agents[i], agents[j], res))\n",
        "\n",
        "# Выводим результаты\n",
        "for agent1, agent2, res in results:\n",
        "    print(f\"Результаты для {agent1} и {agent2}: {res}\")"
      ],
      "metadata": {
        "colab": {
          "base_uri": "https://localhost:8080/"
        },
        "id": "8TBb9szNFDwh",
        "outputId": "6b633640-50be-4949-fa1c-c4326ed2270d"
      },
      "execution_count": 19,
      "outputs": [
        {
          "output_type": "stream",
          "name": "stdout",
          "text": [
            "Результаты для rock_agent.py и paper_agent.py: [[-99.0, 99.0]]\n",
            "Результаты для rock_agent.py и scissors_agent.py: [[99.0, -99.0]]\n",
            "Результаты для rock_agent.py и copy_opponent.py: [[1, None]]\n",
            "Результаты для rock_agent.py и random_agent.py: [[1, None]]\n",
            "Результаты для rock_agent.py и alternating_agent.py: [[0, 0]]\n",
            "Результаты для rock_agent.py и rock_if_opponent_scissors.py: [[1, None]]\n",
            "Результаты для rock_agent.py и scissors_if_opponent_paper.py: [[1, None]]\n",
            "Результаты для rock_agent.py и paper_if_opponent_rock.py: [[1, None]]\n",
            "Результаты для rock_agent.py и weighted_rock_agent.py: [[1, None]]\n",
            "Результаты для rock_agent.py и pattern_agent.py: [[1, None]]\n",
            "Результаты для rock_agent.py и predictive_agent.py: [[1, None]]\n",
            "Результаты для paper_agent.py и scissors_agent.py: [[-99.0, 99.0]]\n",
            "Результаты для paper_agent.py и copy_opponent.py: [[1, None]]\n",
            "Результаты для paper_agent.py и random_agent.py: [[1, None]]\n",
            "Результаты для paper_agent.py и alternating_agent.py: [[0, 0]]\n",
            "Результаты для paper_agent.py и rock_if_opponent_scissors.py: [[1, None]]\n",
            "Результаты для paper_agent.py и scissors_if_opponent_paper.py: [[1, None]]\n",
            "Результаты для paper_agent.py и paper_if_opponent_rock.py: [[1, None]]\n",
            "Результаты для paper_agent.py и weighted_rock_agent.py: [[1, None]]\n",
            "Результаты для paper_agent.py и pattern_agent.py: [[1, None]]\n",
            "Результаты для paper_agent.py и predictive_agent.py: [[1, None]]\n",
            "Результаты для scissors_agent.py и copy_opponent.py: [[1, None]]\n",
            "Результаты для scissors_agent.py и random_agent.py: [[1, None]]\n",
            "Результаты для scissors_agent.py и alternating_agent.py: [[0, 0]]\n",
            "Результаты для scissors_agent.py и rock_if_opponent_scissors.py: [[1, None]]\n",
            "Результаты для scissors_agent.py и scissors_if_opponent_paper.py: [[1, None]]\n",
            "Результаты для scissors_agent.py и paper_if_opponent_rock.py: [[1, None]]\n",
            "Результаты для scissors_agent.py и weighted_rock_agent.py: [[1, None]]\n",
            "Результаты для scissors_agent.py и pattern_agent.py: [[1, None]]\n",
            "Результаты для scissors_agent.py и predictive_agent.py: [[1, None]]\n",
            "Результаты для copy_opponent.py и random_agent.py: [[None, None]]\n",
            "Результаты для copy_opponent.py и alternating_agent.py: [[None, 1]]\n",
            "Результаты для copy_opponent.py и rock_if_opponent_scissors.py: [[None, None]]\n",
            "Результаты для copy_opponent.py и scissors_if_opponent_paper.py: [[None, None]]\n",
            "Результаты для copy_opponent.py и paper_if_opponent_rock.py: [[None, None]]\n",
            "Результаты для copy_opponent.py и weighted_rock_agent.py: [[None, None]]\n",
            "Результаты для copy_opponent.py и pattern_agent.py: [[None, None]]\n",
            "Результаты для copy_opponent.py и predictive_agent.py: [[None, None]]\n",
            "Результаты для random_agent.py и alternating_agent.py: [[None, 1]]\n",
            "Результаты для random_agent.py и rock_if_opponent_scissors.py: [[None, None]]\n",
            "Результаты для random_agent.py и scissors_if_opponent_paper.py: [[None, None]]\n",
            "Результаты для random_agent.py и paper_if_opponent_rock.py: [[None, None]]\n",
            "Результаты для random_agent.py и weighted_rock_agent.py: [[None, None]]\n",
            "Результаты для random_agent.py и pattern_agent.py: [[None, None]]\n",
            "Результаты для random_agent.py и predictive_agent.py: [[None, None]]\n",
            "Результаты для alternating_agent.py и rock_if_opponent_scissors.py: [[1, None]]\n",
            "Результаты для alternating_agent.py и scissors_if_opponent_paper.py: [[1, None]]\n",
            "Результаты для alternating_agent.py и paper_if_opponent_rock.py: [[1, None]]\n",
            "Результаты для alternating_agent.py и weighted_rock_agent.py: [[1, None]]\n",
            "Результаты для alternating_agent.py и pattern_agent.py: [[1, None]]\n",
            "Результаты для alternating_agent.py и predictive_agent.py: [[1, None]]\n",
            "Результаты для rock_if_opponent_scissors.py и scissors_if_opponent_paper.py: [[None, None]]\n",
            "Результаты для rock_if_opponent_scissors.py и paper_if_opponent_rock.py: [[None, None]]\n",
            "Результаты для rock_if_opponent_scissors.py и weighted_rock_agent.py: [[None, None]]\n",
            "Результаты для rock_if_opponent_scissors.py и pattern_agent.py: [[None, None]]\n",
            "Результаты для rock_if_opponent_scissors.py и predictive_agent.py: [[None, None]]\n",
            "Результаты для scissors_if_opponent_paper.py и paper_if_opponent_rock.py: [[None, None]]\n",
            "Результаты для scissors_if_opponent_paper.py и weighted_rock_agent.py: [[None, None]]\n",
            "Результаты для scissors_if_opponent_paper.py и pattern_agent.py: [[None, None]]\n",
            "Результаты для scissors_if_opponent_paper.py и predictive_agent.py: [[None, None]]\n",
            "Результаты для paper_if_opponent_rock.py и weighted_rock_agent.py: [[None, None]]\n",
            "Результаты для paper_if_opponent_rock.py и pattern_agent.py: [[None, None]]\n",
            "Результаты для paper_if_opponent_rock.py и predictive_agent.py: [[None, None]]\n",
            "Результаты для weighted_rock_agent.py и pattern_agent.py: [[None, None]]\n",
            "Результаты для weighted_rock_agent.py и predictive_agent.py: [[None, None]]\n",
            "Результаты для pattern_agent.py и predictive_agent.py: [[None, None]]\n"
          ]
        }
      ]
    },
    {
      "cell_type": "markdown",
      "source": [
        "# **Анализ результатов**"
      ],
      "metadata": {
        "id": "J-HSbKNvGXoz"
      }
    },
    {
      "cell_type": "markdown",
      "source": [
        "# Анализ результатов\n",
        "\n",
        "## Общие выводы\n",
        "- Результаты в формате `[[score1, score2]]` показывают, как каждый из агентов выступил в игре.\n",
        "- Значение `99.0` означает, что агент выиграл, `-99.0` — что агент проиграл, а `0` — что была ничья.\n",
        "- Значение `None` может означать, что один из агентов не выполнил свое действие или не был протестирован должным образом.\n",
        "\n",
        "## Параметры агентов\n",
        "- **rock_agent.py** и **paper_agent.py**: Их взаимодействие показывает, что бумага всегда побеждает камень (`[-99.0, 99.0]`).\n",
        "- **rock_agent.py** и **scissors_agent.py**: Камень всегда побеждает ножницы (`[99.0, -99.0]`).\n",
        "- **paper_agent.py** и **scissors_agent.py**: Здесь также заметно, что бумага побеждает ножницы (`[-99.0, 99.0]`).\n",
        "\n",
        "## Агенты, которые копируют действия противника\n",
        "- **copy_opponent.py** взаимодействует с различными агентами, но, как видно из результатов, многие игры заканчиваются `None`, что указывает на отсутствие результата. Можно сделать  вывод, что агент не смог корректно реагировать на действия соперника.\n",
        "\n",
        "## Случайные агенты\n",
        "- **random_agent.py** взаимодействует с многими другими агентами, и результаты в большинстве случаев показывают `None`. Можно сделать  вывод, что случайный агент не демонстрирует стабильных результатов.\n",
        "\n",
        "## Агенты с предсказаниями\n",
        "- **predictive_agent.py** и другие агенты, такие как **weighted_rock_agent.py** и **pattern_agent.py**, показывают много значений `None`, что может указывать на недостаток в логике или стратегии, применяемой в этих агентах.\n",
        "\n",
        "## Агенты с адаптивным поведением\n",
        "- Агенты, которые адаптируются к действиям соперника, такие как **alternating_agent.py**, демонстрируют более положительные результаты, выигрывая в большинстве взаимодействий."
      ],
      "metadata": {
        "id": "mTOxgGkNGwg0"
      }
    }
  ]
}